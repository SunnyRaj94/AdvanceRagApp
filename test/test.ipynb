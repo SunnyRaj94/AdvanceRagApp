{
 "cells": [
  {
   "cell_type": "code",
   "execution_count": null,
   "id": "e98e651a",
   "metadata": {},
   "outputs": [],
   "source": [
    "import sys\n",
    "sys.path.append('/Users/sunnyraj/code_files/git_repos/AdvanceRagApp')\n",
    "\n",
    "from backend.llm_engine import get_response_from_llm\n",
    "\n"
   ]
  },
  {
   "cell_type": "code",
   "execution_count": 2,
   "id": "b7307519",
   "metadata": {},
   "outputs": [
    {
     "name": "stderr",
     "output_type": "stream",
     "text": [
      "llama_init_from_model: n_ctx_per_seq (2048) < n_ctx_train (32768) -- the full capacity of the model will not be utilized\n",
      "ggml_metal_init: skipping kernel_get_rows_bf16                     (not supported)\n",
      "ggml_metal_init: skipping kernel_mul_mv_bf16_f32                   (not supported)\n",
      "ggml_metal_init: skipping kernel_mul_mv_bf16_f32_1row              (not supported)\n",
      "ggml_metal_init: skipping kernel_mul_mv_bf16_f32_l4                (not supported)\n",
      "ggml_metal_init: skipping kernel_mul_mv_bf16_bf16                  (not supported)\n",
      "ggml_metal_init: skipping kernel_mul_mv_id_bf16_f32                (not supported)\n",
      "ggml_metal_init: skipping kernel_mul_mm_bf16_f32                   (not supported)\n",
      "ggml_metal_init: skipping kernel_mul_mm_id_bf16_f32                (not supported)\n",
      "ggml_metal_init: skipping kernel_flash_attn_ext_bf16_h64           (not supported)\n",
      "ggml_metal_init: skipping kernel_flash_attn_ext_bf16_h80           (not supported)\n",
      "ggml_metal_init: skipping kernel_flash_attn_ext_bf16_h96           (not supported)\n",
      "ggml_metal_init: skipping kernel_flash_attn_ext_bf16_h112          (not supported)\n",
      "ggml_metal_init: skipping kernel_flash_attn_ext_bf16_h128          (not supported)\n",
      "ggml_metal_init: skipping kernel_flash_attn_ext_bf16_h256          (not supported)\n",
      "ggml_metal_init: skipping kernel_flash_attn_ext_vec_bf16_h128      (not supported)\n",
      "ggml_metal_init: skipping kernel_flash_attn_ext_vec_bf16_h256      (not supported)\n",
      "ggml_metal_init: skipping kernel_cpy_f32_bf16                      (not supported)\n",
      "ggml_metal_init: skipping kernel_cpy_bf16_f32                      (not supported)\n",
      "ggml_metal_init: skipping kernel_cpy_bf16_bf16                     (not supported)\n"
     ]
    },
    {
     "name": "stdout",
     "output_type": "stream",
     "text": [
      "In LLMs, RAG stands for \"Risk, Analysis, and Governance.\" It is a framework used to assess and manage risks associated with large-scale machine learning models. The purpose of RAG is to provide a structured approach for identifying, evaluating, and mitigating risks that may arise from the use of these models.\n",
      "\n",
      "The RAG framework typically involves three stages:\n",
      "\n",
      "1. Risk: Identifying potential risks associated with the model, such as bias, data privacy, security, ethical concerns, and legal implications.\n",
      "2. Analysis: Evaluating the likelihood and potential impact of each identified risk. This includes assessing the model's performance, its interaction with the data and users, and any potential consequences of its decisions.\n",
      "3. Governance: Establishing policies, procedures, and controls to mitigate risks and ensure that the model is used responsibly and ethically. This includes implementing monitoring and auditing mechanisms, as well as providing transparency and accountability.\n",
      "\n",
      "The RAG framework is designed to help organizations manage the complex risks associated with large-scale machine learning models and ensure that these models are used in a responsible and ethical manner.\n"
     ]
    }
   ],
   "source": [
    "prompt = \"[INST] What is the purpose of RAG in LLMs? [/INST]\"\n",
    "\n",
    "print(get_response_from_llm(prompt))"
   ]
  },
  {
   "cell_type": "code",
   "execution_count": 2,
   "id": "e67b5ba8",
   "metadata": {},
   "outputs": [
    {
     "name": "stderr",
     "output_type": "stream",
     "text": [
      "/Users/sunnyraj/miniconda3/envs/rag_app/lib/python3.10/site-packages/tqdm/auto.py:21: TqdmWarning: IProgress not found. Please update jupyter and ipywidgets. See https://ipywidgets.readthedocs.io/en/stable/user_install.html\n",
      "  from .autonotebook import tqdm as notebook_tqdm\n"
     ]
    },
    {
     "name": "stdout",
     "output_type": "stream",
     "text": [
      "🧾 Ingesting document: https://en.wikipedia.org/wiki/Retrieval-Augmented_Generation\n",
      "✅ Extracted 26576 characters\n",
      "✅ Chunked into 60 pieces\n",
      "✅ Created embeddings of shape (60, 384)\n",
      "✅ Stored 60 chunks in vector store\n"
     ]
    },
    {
     "data": {
      "text/plain": [
       "True"
      ]
     },
     "execution_count": 2,
     "metadata": {},
     "output_type": "execute_result"
    }
   ],
   "source": [
    "from backend.rag.ingest import ingest_document\n",
    "\n",
    "# From file\n",
    "# ingest_document(\"sample_docs/sample.pdf\")\n",
    "\n",
    "# From web\n",
    "ingest_document(\"https://en.wikipedia.org/wiki/Retrieval-Augmented_Generation\")\n"
   ]
  },
  {
   "cell_type": "code",
   "execution_count": 10,
   "id": "6550f9ea",
   "metadata": {},
   "outputs": [],
   "source": [
    "import os\n",
    "\n",
    "def list_nested_dirs(start_path):\n",
    "    \"\"\"\n",
    "    Generates a list of all directories within start_path, including nested ones.\n",
    "\n",
    "    Args:\n",
    "        start_path (str): The path to the directory to start searching from.\n",
    "\n",
    "    Returns:\n",
    "        list: A list of full paths to all directories found, including the start_path.\n",
    "              Returns an empty list if start_path is not a valid directory.\n",
    "    \"\"\"\n",
    "    all_dirs = []\n",
    "    # Ensure the starting path is a valid directory\n",
    "    if not os.path.isdir(start_path):\n",
    "        print(f\"Error: Provided path '{start_path}' is not a valid directory or doesn't exist.\")\n",
    "        return all_dirs # Return an empty list\n",
    "\n",
    "    # os.walk() efficiently traverses the directory tree.\n",
    "    # For each directory it visits, it yields a tuple:\n",
    "    # (current_directory_path, list_of_subdirectory_names, list_of_filenames)\n",
    "    for dirpath, dirnames, filenames in os.walk(start_path):\n",
    "        # The 'dirpath' is exactly what we want: the path to a directory\n",
    "        # found during the walk (including the starting directory itself).\n",
    "        all_dirs.append(dirpath)\n",
    "\n",
    "        # Note: We don't need to explicitly recurse into 'dirnames'.\n",
    "        # os.walk() handles the traversal down the tree automatically.\n",
    "\n",
    "    return all_dirs\n",
    "\n",
    "def get_files_nested(root_dir):\n",
    "    \"\"\"\n",
    "    Returns a list of all file paths within a specified root directory\n",
    "    and its subdirectories.\n",
    "\n",
    "    Args:\n",
    "        root_dir (str): The path to the root directory to start the search from.\n",
    "\n",
    "    Returns:\n",
    "        list: A list of strings, where each string is the full path to a file.\n",
    "              Returns an empty list if the root directory is not found or\n",
    "              contains no files.\n",
    "    \"\"\"\n",
    "    file_list = []\n",
    "    if os.path.isdir(root_dir):\n",
    "        for dirpath, dirnames, filenames in os.walk(root_dir):\n",
    "            for filename in filenames:\n",
    "                file_list.append(os.path.join(dirpath, filename))\n",
    "    else:\n",
    "        print(f\"Error: Directory '{root_dir}' not found.\")\n",
    "    return file_list"
   ]
  },
  {
   "cell_type": "code",
   "execution_count": 12,
   "id": "2423fa6a",
   "metadata": {},
   "outputs": [
    {
     "data": {
      "text/plain": [
       "['.DS_Store',\n",
       " 'LICENSE',\n",
       " 'requirements.txt',\n",
       " 'README.md',\n",
       " '.gitignore',\n",
       " 'main.py',\n",
       " 'frontend/.DS_Store',\n",
       " 'frontend/ui.py',\n",
       " 'frontend/static/js/app.js',\n",
       " 'frontend/templates/index.html',\n",
       " 'frontend/templates/login.html',\n",
       " 'frontend/templates/upload.html',\n",
       " 'frontend/templates/chat.html',\n",
       " 'test/test.ipynb',\n",
       " 'test/vector_store/index.faiss',\n",
       " 'test/vector_store/meta.pkl',\n",
       " 'config/settings.yaml',\n",
       " 'config/__init__.py',\n",
       " 'backend/auth.py',\n",
       " 'backend/llm_engine.py',\n",
       " 'backend/__init__.py',\n",
       " 'backend/api.py',\n",
       " 'backend/storage.py',\n",
       " 'backend/rag_pipeline.py',\n",
       " 'backend/rag/ingest.py',\n",
       " 'backend/rag/query.py',\n",
       " 'backend/rag/vector_store.py',\n",
       " 'backend/rag/processor.py',\n",
       " 'backend/rag/logger.py',\n",
       " 'backend/rag/embedder.py',\n",
       " 'models/mistral.gguf',\n",
       " 'models/all-MiniLM-L6-v2/model.safetensors',\n",
       " 'models/all-MiniLM-L6-v2/tokenizer_config.json',\n",
       " 'models/all-MiniLM-L6-v2/special_tokens_map.json',\n",
       " 'models/all-MiniLM-L6-v2/config.json',\n",
       " 'models/all-MiniLM-L6-v2/config_sentence_transformers.json',\n",
       " 'models/all-MiniLM-L6-v2/tokenizer.json',\n",
       " 'models/all-MiniLM-L6-v2/rust_model.ot',\n",
       " 'models/all-MiniLM-L6-v2/README.md',\n",
       " 'models/all-MiniLM-L6-v2/train_script.py',\n",
       " 'models/all-MiniLM-L6-v2/sentence_bert_config.json',\n",
       " 'models/all-MiniLM-L6-v2/vocab.txt',\n",
       " 'models/all-MiniLM-L6-v2/.gitattributes',\n",
       " 'models/all-MiniLM-L6-v2/pytorch_model.bin',\n",
       " 'models/all-MiniLM-L6-v2/data_config.json',\n",
       " 'models/all-MiniLM-L6-v2/tf_model.h5',\n",
       " 'models/all-MiniLM-L6-v2/modules.json',\n",
       " 'models/all-MiniLM-L6-v2/1_Pooling/config.json',\n",
       " 'models/all-MiniLM-L6-v2/onnx/model_quint8_avx2.onnx',\n",
       " 'models/all-MiniLM-L6-v2/onnx/model_O2.onnx',\n",
       " 'models/all-MiniLM-L6-v2/onnx/model_qint8_arm64.onnx',\n",
       " 'models/all-MiniLM-L6-v2/onnx/model_O3.onnx',\n",
       " 'models/all-MiniLM-L6-v2/onnx/model_O4.onnx',\n",
       " 'models/all-MiniLM-L6-v2/onnx/model_qint8_avx512.onnx',\n",
       " 'models/all-MiniLM-L6-v2/onnx/model.onnx',\n",
       " 'models/all-MiniLM-L6-v2/onnx/model_qint8_avx512_vnni.onnx',\n",
       " 'models/all-MiniLM-L6-v2/onnx/model_O1.onnx',\n",
       " 'models/all-MiniLM-L6-v2/openvino/openvino_model_qint8_quantized.xml',\n",
       " 'models/all-MiniLM-L6-v2/openvino/openvino_model_qint8_quantized.bin',\n",
       " 'models/all-MiniLM-L6-v2/openvino/openvino_model.xml',\n",
       " 'models/all-MiniLM-L6-v2/openvino/openvino_model.bin',\n",
       " 'logs/app.log']"
      ]
     },
     "execution_count": 12,
     "metadata": {},
     "output_type": "execute_result"
    }
   ],
   "source": [
    "nested_files = get_files_nested('/Users/sunnyraj/code_files/git_repos/AdvanceRagApp')\n",
    "ignore_files = ['/.git/', '__pycache__']\n",
    "final_strc = []\n",
    "for a in nested_files:\n",
    "    include = True\n",
    "    for b in ignore_files:\n",
    "        if b in a:\n",
    "            include = False\n",
    "    if include is True:\n",
    "        final_strc.append(a.replace(\"/Users/sunnyraj/code_files/git_repos/AdvanceRagApp/\",''))\n",
    "final_strc"
   ]
  },
  {
   "cell_type": "code",
   "execution_count": null,
   "id": "2ccc7479",
   "metadata": {},
   "outputs": [],
   "source": []
  }
 ],
 "metadata": {
  "kernelspec": {
   "display_name": "rag_app",
   "language": "python",
   "name": "python3"
  },
  "language_info": {
   "codemirror_mode": {
    "name": "ipython",
    "version": 3
   },
   "file_extension": ".py",
   "mimetype": "text/x-python",
   "name": "python",
   "nbconvert_exporter": "python",
   "pygments_lexer": "ipython3",
   "version": "3.13.2"
  }
 },
 "nbformat": 4,
 "nbformat_minor": 5
}
